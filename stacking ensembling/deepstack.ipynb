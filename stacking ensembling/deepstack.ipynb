{
 "cells": [
  {
   "cell_type": "code",
   "execution_count": 1,
   "metadata": {},
   "outputs": [
    {
     "name": "stdout",
     "output_type": "stream",
     "text": [
      "Requirement already satisfied: deepstack in c:\\users\\asus\\anaconda3\\lib\\site-packages (0.0.9)\n",
      "Requirement already satisfied: tensorflow>=1.14.0 in c:\\users\\asus\\anaconda3\\lib\\site-packages (from deepstack) (2.4.1)\n",
      "Requirement already satisfied: scikit-learn>=0.21.2 in c:\\users\\asus\\anaconda3\\lib\\site-packages (from deepstack) (0.23.2)\n",
      "Requirement already satisfied: keras>=2.2.5 in c:\\users\\asus\\anaconda3\\lib\\site-packages (from deepstack) (2.4.3)\n",
      "Requirement already satisfied: numpy>=1.16.4 in c:\\users\\asus\\anaconda3\\lib\\site-packages (from deepstack) (1.19.2)\n",
      "Requirement already satisfied: wrapt~=1.12.1 in c:\\users\\asus\\anaconda3\\lib\\site-packages (from tensorflow>=1.14.0->deepstack) (1.12.1)\n",
      "Requirement already satisfied: flatbuffers~=1.12.0 in c:\\users\\asus\\anaconda3\\lib\\site-packages (from tensorflow>=1.14.0->deepstack) (1.12)\n",
      "Requirement already satisfied: gast==0.3.3 in c:\\users\\asus\\anaconda3\\lib\\site-packages (from tensorflow>=1.14.0->deepstack) (0.3.3)\n",
      "Requirement already satisfied: grpcio~=1.32.0 in c:\\users\\asus\\anaconda3\\lib\\site-packages (from tensorflow>=1.14.0->deepstack) (1.32.0)\n",
      "Requirement already satisfied: protobuf>=3.9.2 in c:\\users\\asus\\anaconda3\\lib\\site-packages (from tensorflow>=1.14.0->deepstack) (3.15.6)\n",
      "Requirement already satisfied: google-pasta~=0.2 in c:\\users\\asus\\anaconda3\\lib\\site-packages (from tensorflow>=1.14.0->deepstack) (0.2.0)\n",
      "Requirement already satisfied: six~=1.15.0 in c:\\users\\asus\\anaconda3\\lib\\site-packages (from tensorflow>=1.14.0->deepstack) (1.15.0)\n",
      "Requirement already satisfied: tensorflow-estimator<2.5.0,>=2.4.0 in c:\\users\\asus\\anaconda3\\lib\\site-packages (from tensorflow>=1.14.0->deepstack) (2.4.0)\n",
      "Requirement already satisfied: h5py~=2.10.0 in c:\\users\\asus\\anaconda3\\lib\\site-packages (from tensorflow>=1.14.0->deepstack) (2.10.0)\n",
      "Requirement already satisfied: astunparse~=1.6.3 in c:\\users\\asus\\anaconda3\\lib\\site-packages (from tensorflow>=1.14.0->deepstack) (1.6.3)\n",
      "Requirement already satisfied: keras-preprocessing~=1.1.2 in c:\\users\\asus\\anaconda3\\lib\\site-packages (from tensorflow>=1.14.0->deepstack) (1.1.2)\n",
      "Requirement already satisfied: typing-extensions~=3.7.4 in c:\\users\\asus\\anaconda3\\lib\\site-packages (from tensorflow>=1.14.0->deepstack) (3.7.4.3)\n",
      "Requirement already satisfied: wheel~=0.35 in c:\\users\\asus\\anaconda3\\lib\\site-packages (from tensorflow>=1.14.0->deepstack) (0.35.1)\n",
      "Requirement already satisfied: tensorboard~=2.4 in c:\\users\\asus\\anaconda3\\lib\\site-packages (from tensorflow>=1.14.0->deepstack) (2.4.1)\n",
      "Requirement already satisfied: absl-py~=0.10 in c:\\users\\asus\\anaconda3\\lib\\site-packages (from tensorflow>=1.14.0->deepstack) (0.12.0)\n",
      "Requirement already satisfied: opt-einsum~=3.3.0 in c:\\users\\asus\\anaconda3\\lib\\site-packages (from tensorflow>=1.14.0->deepstack) (3.3.0)\n",
      "Requirement already satisfied: termcolor~=1.1.0 in c:\\users\\asus\\anaconda3\\lib\\site-packages (from tensorflow>=1.14.0->deepstack) (1.1.0)\n",
      "Requirement already satisfied: scipy>=0.19.1 in c:\\users\\asus\\anaconda3\\lib\\site-packages (from scikit-learn>=0.21.2->deepstack) (1.5.2)\n",
      "Requirement already satisfied: joblib>=0.11 in c:\\users\\asus\\anaconda3\\lib\\site-packages (from scikit-learn>=0.21.2->deepstack) (0.17.0)\n",
      "Requirement already satisfied: threadpoolctl>=2.0.0 in c:\\users\\asus\\anaconda3\\lib\\site-packages (from scikit-learn>=0.21.2->deepstack) (2.1.0)\n",
      "Requirement already satisfied: pyyaml in c:\\users\\asus\\anaconda3\\lib\\site-packages (from keras>=2.2.5->deepstack) (5.3.1)\n",
      "Requirement already satisfied: markdown>=2.6.8 in c:\\users\\asus\\anaconda3\\lib\\site-packages (from tensorboard~=2.4->tensorflow>=1.14.0->deepstack) (3.3.4)\n",
      "Requirement already satisfied: requests<3,>=2.21.0 in c:\\users\\asus\\anaconda3\\lib\\site-packages (from tensorboard~=2.4->tensorflow>=1.14.0->deepstack) (2.24.0)\n",
      "Requirement already satisfied: setuptools>=41.0.0 in c:\\users\\asus\\anaconda3\\lib\\site-packages (from tensorboard~=2.4->tensorflow>=1.14.0->deepstack) (50.3.1.post20201107)\n",
      "Requirement already satisfied: tensorboard-plugin-wit>=1.6.0 in c:\\users\\asus\\anaconda3\\lib\\site-packages (from tensorboard~=2.4->tensorflow>=1.14.0->deepstack) (1.8.0)\n",
      "Requirement already satisfied: google-auth<2,>=1.6.3 in c:\\users\\asus\\anaconda3\\lib\\site-packages (from tensorboard~=2.4->tensorflow>=1.14.0->deepstack) (1.28.0)\n",
      "Requirement already satisfied: google-auth-oauthlib<0.5,>=0.4.1 in c:\\users\\asus\\anaconda3\\lib\\site-packages (from tensorboard~=2.4->tensorflow>=1.14.0->deepstack) (0.4.4)\n",
      "Requirement already satisfied: werkzeug>=0.11.15 in c:\\users\\asus\\anaconda3\\lib\\site-packages (from tensorboard~=2.4->tensorflow>=1.14.0->deepstack) (1.0.1)\n",
      "Requirement already satisfied: certifi>=2017.4.17 in c:\\users\\asus\\anaconda3\\lib\\site-packages (from requests<3,>=2.21.0->tensorboard~=2.4->tensorflow>=1.14.0->deepstack) (2020.6.20)\n",
      "Requirement already satisfied: chardet<4,>=3.0.2 in c:\\users\\asus\\anaconda3\\lib\\site-packages (from requests<3,>=2.21.0->tensorboard~=2.4->tensorflow>=1.14.0->deepstack) (3.0.4)\n",
      "Requirement already satisfied: idna<3,>=2.5 in c:\\users\\asus\\anaconda3\\lib\\site-packages (from requests<3,>=2.21.0->tensorboard~=2.4->tensorflow>=1.14.0->deepstack) (2.10)\n",
      "Requirement already satisfied: urllib3!=1.25.0,!=1.25.1,<1.26,>=1.21.1 in c:\\users\\asus\\anaconda3\\lib\\site-packages (from requests<3,>=2.21.0->tensorboard~=2.4->tensorflow>=1.14.0->deepstack) (1.25.11)\n",
      "Requirement already satisfied: cachetools<5.0,>=2.0.0 in c:\\users\\asus\\anaconda3\\lib\\site-packages (from google-auth<2,>=1.6.3->tensorboard~=2.4->tensorflow>=1.14.0->deepstack) (4.2.1)\n",
      "Requirement already satisfied: pyasn1-modules>=0.2.1 in c:\\users\\asus\\anaconda3\\lib\\site-packages (from google-auth<2,>=1.6.3->tensorboard~=2.4->tensorflow>=1.14.0->deepstack) (0.2.8)\n",
      "Requirement already satisfied: rsa<5,>=3.1.4; python_version >= \"3.6\" in c:\\users\\asus\\anaconda3\\lib\\site-packages (from google-auth<2,>=1.6.3->tensorboard~=2.4->tensorflow>=1.14.0->deepstack) (4.7.2)\n",
      "Requirement already satisfied: requests-oauthlib>=0.7.0 in c:\\users\\asus\\anaconda3\\lib\\site-packages (from google-auth-oauthlib<0.5,>=0.4.1->tensorboard~=2.4->tensorflow>=1.14.0->deepstack) (1.3.0)\n",
      "Requirement already satisfied: pyasn1<0.5.0,>=0.4.6 in c:\\users\\asus\\anaconda3\\lib\\site-packages (from pyasn1-modules>=0.2.1->google-auth<2,>=1.6.3->tensorboard~=2.4->tensorflow>=1.14.0->deepstack) (0.4.8)\n",
      "Requirement already satisfied: oauthlib>=3.0.0 in c:\\users\\asus\\anaconda3\\lib\\site-packages (from requests-oauthlib>=0.7.0->google-auth-oauthlib<0.5,>=0.4.1->tensorboard~=2.4->tensorflow>=1.14.0->deepstack) (3.1.0)\n"
     ]
    }
   ],
   "source": [
    "! pip install deepstack"
   ]
  },
  {
   "cell_type": "code",
   "execution_count": null,
   "metadata": {},
   "outputs": [],
   "source": []
  },
  {
   "cell_type": "code",
   "execution_count": 14,
   "metadata": {},
   "outputs": [],
   "source": [
    "import pandas as pd\n",
    "import numpy as np \n",
    "import os\n",
    "import tensorflow as tf\n",
    "from tensorflow.keras.layers import Flatten,Dense,Dropout,BatchNormalization\n",
    "from tensorflow.keras.models import Model,Sequential\n",
    "from tensorflow.keras.utils import to_categorical\n",
    "from tensorflow.keras.layers import Conv2D, MaxPooling2D, BatchNormalization\n",
    "from tensorflow.keras.layers import PReLU\n",
    "from tensorflow.keras.optimizers import RMSprop\n",
    "from tensorflow.keras.callbacks import ReduceLROnPlateau"
   ]
  },
  {
   "cell_type": "code",
   "execution_count": 15,
   "metadata": {},
   "outputs": [],
   "source": [
    "train_path=r\"C:\\\\Users\\\\asus\\\\Downloads\\\\iiit ng internship\\\\covidkaggle dataset\\\\COVID-19_Radiography_Dataset\\\\datset\\\\T\"\n",
    "val_path=r\"C:\\\\Users\\\\asus\\\\Downloads\\\\iiit ng internship\\\\covidkaggle dataset\\\\COVID-19_Radiography_Dataset\\\\datset\\\\V\""
   ]
  },
  {
   "cell_type": "code",
   "execution_count": 19,
   "metadata": {},
   "outputs": [],
   "source": [
    "from keras import optimizers\n",
    "\n",
    "\n",
    "adam = optimizers.Adam(0.0001)\n",
    "model1.compile(loss='binary_crossentropy',\n",
    "              optimizer=adam,\n",
    "              metrics=['accuracy'])"
   ]
  },
  {
   "cell_type": "code",
   "execution_count": 20,
   "metadata": {},
   "outputs": [],
   "source": [
    "from keras import optimizers\n",
    "\n",
    "\n",
    "adam = optimizers.Adam(0.0001)\n",
    "model2.compile(loss='binary_crossentropy',\n",
    "              optimizer=adam,\n",
    "              metrics=['accuracy'])"
   ]
  },
  {
   "cell_type": "code",
   "execution_count": 21,
   "metadata": {},
   "outputs": [],
   "source": [
    "from keras import optimizers\n",
    "\n",
    "\n",
    "adam = optimizers.Adam(0.0001)\n",
    "model3.compile(loss='binary_crossentropy',\n",
    "              optimizer=adam,\n",
    "              metrics=['accuracy'])"
   ]
  },
  {
   "cell_type": "code",
   "execution_count": null,
   "metadata": {},
   "outputs": [],
   "source": [
    "from keras import optimizers\n",
    "\n",
    "\n",
    "adam = optimizers.Adam(0.0001)\n",
    "model4.compile(loss='binary_crossentropy',\n",
    "              optimizer=adam,\n",
    "              metrics=['accuracy'])"
   ]
  },
  {
   "cell_type": "code",
   "execution_count": null,
   "metadata": {},
   "outputs": [],
   "source": [
    "from keras import optimizers\n",
    "\n",
    "\n",
    "adam = optimizers.Adam(0.0001)\n",
    "model5.compile(loss='binary_crossentropy',\n",
    "              optimizer=adam,\n",
    "              metrics=['accuracy'])"
   ]
  },
  {
   "cell_type": "code",
   "execution_count": 23,
   "metadata": {},
   "outputs": [],
   "source": [
    "\n",
    "# Image Data Augmentation\n",
    "from keras.preprocessing import image\n",
    "from keras.preprocessing.image import ImageDataGenerator\n",
    "\n",
    "train_datagen = ImageDataGenerator(\n",
    "    \n",
    "    rotation_range=40,\n",
    "    width_shift_range=0.2,\n",
    "    height_shift_range=0.2,\n",
    "    shear_range=0.2,\n",
    "    zoom_range=0.2,\n",
    "    horizontal_flip=True,\n",
    "    fill_mode='nearest')"
   ]
  },
  {
   "cell_type": "code",
   "execution_count": 24,
   "metadata": {},
   "outputs": [],
   "source": [
    "\n",
    "test_datagen = ImageDataGenerator(\n",
    "    \n",
    "    rotation_range=40,\n",
    "    width_shift_range=0.2,\n",
    "    height_shift_range=0.2,\n",
    "    shear_range=0.2,\n",
    "    zoom_range=0.2,\n",
    "    horizontal_flip=True,\n",
    "    fill_mode='nearest')"
   ]
  },
  {
   "cell_type": "code",
   "execution_count": 25,
   "metadata": {},
   "outputs": [
    {
     "name": "stdout",
     "output_type": "stream",
     "text": [
      "Found 7253 images belonging to 3 classes.\n"
     ]
    }
   ],
   "source": [
    "train_set = train_datagen.flow_from_directory(train_path,\n",
    "                                                 target_size = (224, 224),\n",
    "                                                 batch_size = 40,\n",
    "                                                 class_mode = 'categorical')"
   ]
  },
  {
   "cell_type": "code",
   "execution_count": 26,
   "metadata": {},
   "outputs": [
    {
     "name": "stdout",
     "output_type": "stream",
     "text": [
      "Found 1212 images belonging to 3 classes.\n"
     ]
    }
   ],
   "source": [
    "test_set = test_datagen.flow_from_directory(val_path,\n",
    "                                            target_size = (224, 224),\n",
    "                                            batch_size = 40,\n",
    "                                            class_mode = 'categorical')"
   ]
  },
  {
   "cell_type": "code",
   "execution_count": 17,
   "metadata": {},
   "outputs": [],
   "source": [
    "model1 = tf.keras.models.load_model('densenet9822.h5')\n",
    "\n",
    "model2 = tf.keras.models.load_model('xception9722.h5')\n",
    "\n",
    "model3 = tf.keras.models.load_model('resnet101V22.h5')\n",
    "\n",
    "model4= tf.keras.models.load_model('resnet152V22.h5')\n",
    "\n",
    "model5= tf.keras.models.load_model('inceptionv22.h5')\n",
    "\n"
   ]
  },
  {
   "cell_type": "code",
   "execution_count": 27,
   "metadata": {},
   "outputs": [],
   "source": [
    "from deepstack.base import KerasMember"
   ]
  },
  {
   "cell_type": "code",
   "execution_count": 29,
   "metadata": {},
   "outputs": [
    {
     "name": "stderr",
     "output_type": "stream",
     "text": [
      "C:\\Users\\asus\\anaconda3\\lib\\site-packages\\tensorflow\\python\\keras\\engine\\training.py:1905: UserWarning: `Model.predict_generator` is deprecated and will be removed in a future version. Please use `Model.predict`, which supports generators.\n",
      "  warnings.warn('`Model.predict_generator` is deprecated and '\n"
     ]
    },
    {
     "name": "stdout",
     "output_type": "stream",
     "text": [
      "182/182 [==============================] - 2030s 11s/step\n",
      "31/31 [==============================] - 299s 10s/step\n",
      "182/182 [==============================] - 1388s 8s/step\n",
      "31/31 [==============================] - 229s 7s/step\n",
      "182/182 [==============================] - 1874s 10s/step\n",
      "31/31 [==============================] - 335s 11s/step\n"
     ]
    }
   ],
   "source": [
    "member1 = KerasMember(name=\"model1\", keras_model=model1, train_batches=train_set, val_batches=test_set)\n",
    "member2 = KerasMember(name=\"model2\", keras_model=model2, train_batches=train_set, val_batches=test_set)\n",
    "member3 = KerasMember(name=\"model3\", keras_model=model3, train_batches=train_set, val_batches=test_set)\n",
    "member4 = KerasMember(name=\"model4\", keras_model=model4, train_batches=train_set, val_batches=test_set)\n",
    "member5 = KerasMember(name=\"model5\", keras_model=model5, train_batches=train_set, val_batches=test_set)"
   ]
  },
  {
   "cell_type": "code",
   "execution_count": 31,
   "metadata": {},
   "outputs": [
    {
     "name": "stdout",
     "output_type": "stream",
     "text": [
      "model1 - Weight: 0.9270 - accuracy_score: 0.7706\n",
      "model1 - Weight: 0.0728 - accuracy_score: 0.5220\n",
      "model1 - Weight: 0.0002 - accuracy_score: 0.4957\n",
      "DirichletEnsemble accuracy_score: 0.7606\n"
     ]
    }
   ],
   "source": [
    "from deepstack.ensemble import DirichletEnsemble\n",
    "from sklearn.metrics import accuracy_score\n",
    "\n",
    "wAvgEnsemble = DirichletEnsemble(N=10000, metric=accuracy_score)\n",
    "wAvgEnsemble.add_members([member1, member2,member3])\n",
    "wAvgEnsemble.fit()\n",
    "wAvgEnsemble.describe()"
   ]
  },
  {
   "cell_type": "code",
   "execution_count": 42,
   "metadata": {},
   "outputs": [
    {
     "name": "stdout",
     "output_type": "stream",
     "text": [
      "model1 - Weight: 0.9931 - recall_score: 0.7706\n",
      "model1 - Weight: 0.0069 - recall_score: 0.5220\n",
      "model1 - Weight: 0.0000 - recall_score: 0.4957\n",
      "DirichletEnsemble recall_score: 0.7697\n"
     ]
    }
   ],
   "source": [
    "from deepstack.ensemble import DirichletEnsemble\n",
    "from sklearn.metrics import recall_score\n",
    "\n",
    "wAvgEnsemble = DirichletEnsemble(N=10000, metric=recall_score)\n",
    "wAvgEnsemble.add_members([member1, member2,member3])\n",
    "wAvgEnsemble.fit()\n",
    "wAvgEnsemble.describe()"
   ]
  },
  {
   "cell_type": "code",
   "execution_count": null,
   "metadata": {},
   "outputs": [],
   "source": []
  },
  {
   "cell_type": "code",
   "execution_count": 41,
   "metadata": {},
   "outputs": [
    {
     "name": "stdout",
     "output_type": "stream",
     "text": [
      "model1 - Weight: 0.9454 - f1_score: 0.7706\n",
      "model1 - Weight: 0.0546 - f1_score: 0.5220\n",
      "model1 - Weight: 0.0000 - f1_score: 0.4957\n",
      "DirichletEnsemble f1_score: 0.7666\n"
     ]
    }
   ],
   "source": [
    "from deepstack.ensemble import DirichletEnsemble\n",
    "from sklearn.metrics import f1_score\n",
    "\n",
    "wAvgEnsemble = DirichletEnsemble(N=10000, metric=f1_score)\n",
    "wAvgEnsemble.add_members([member1, member2,member3])\n",
    "wAvgEnsemble.fit()\n",
    "wAvgEnsemble.describe()"
   ]
  },
  {
   "cell_type": "code",
   "execution_count": null,
   "metadata": {},
   "outputs": [],
   "source": []
  }
 ],
 "metadata": {
  "kernelspec": {
   "display_name": "Python 3",
   "language": "python",
   "name": "python3"
  },
  "language_info": {
   "codemirror_mode": {
    "name": "ipython",
    "version": 3
   },
   "file_extension": ".py",
   "mimetype": "text/x-python",
   "name": "python",
   "nbconvert_exporter": "python",
   "pygments_lexer": "ipython3",
   "version": "3.8.5"
  }
 },
 "nbformat": 4,
 "nbformat_minor": 4
}
